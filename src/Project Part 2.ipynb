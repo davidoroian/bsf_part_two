{
 "cells": [
  {
   "cell_type": "code",
   "execution_count": 1,
   "id": "initial_id",
   "metadata": {
    "ExecuteTime": {
     "end_time": "2024-11-27T10:17:13.214491Z",
     "start_time": "2024-11-27T10:17:13.211398Z"
    },
    "collapsed": true
   },
   "outputs": [],
   "source": [
    "import pandas as pd\n",
    "import numpy as np\n",
    "import matplotlib.pyplot as plt"
   ]
  },
  {
   "cell_type": "code",
   "execution_count": 2,
   "id": "89af3541",
   "metadata": {},
   "outputs": [],
   "source": [
    "from modules.qr_code import QrCode, Measurement\n",
    "\n",
    "# Loading data\n",
    "camera_columns = ['timestamp', 'qr_code', 'cx', 'cy', 'width', 'height', 'distance', 'attitude']\n",
    "\n",
    "qr_df = pd.read_csv('../data/qr_code_position_in_global_coordinate.csv')\n",
    "camera_df = pd.read_csv('../data/task5/camera_localization_task5.csv', header=None, names=camera_columns)"
   ]
  },
  {
   "cell_type": "code",
   "execution_count": 3,
   "id": "6d6d0daa",
   "metadata": {},
   "outputs": [],
   "source": [
    "# Setting up required QR codes' data for the task\n",
    "\n",
    "qr_codes = []\n",
    "for index, row in qr_df.iterrows():\n",
    "    if row['position_in_wall'] == 2 and row['qr_code'] != 13:\n",
    "        qr = QrCode(int(row['qr_code']), row['mid_point_x_cm'], row['mid_point_y_cm'])\n",
    "        qr_codes.append(qr)\n",
    "\n",
    "for qr in qr_codes:\n",
    "    for index, row in camera_df.iterrows():\n",
    "        if row['qr_code'] == qr.id:\n",
    "            qr.add_measurement(Measurement(row['timestamp'], row['cx'], row['height']))"
   ]
  },
  {
   "cell_type": "code",
   "execution_count": 4,
   "id": "9659c53f",
   "metadata": {},
   "outputs": [],
   "source": [
    "#Compute the variances of the measurements\n",
    "for qr in qr_codes:\n",
    "    qr.compute_variance()"
   ]
  },
  {
   "cell_type": "code",
   "execution_count": 5,
   "id": "95202982",
   "metadata": {},
   "outputs": [],
   "source": [
    "from modules.localization import Localization\n",
    "\n",
    "localization = Localization(h0=11.5, path=\"../data/task3/camera_module_calibration_task3.csv\", qr_codes=qr_codes, distance_bias=6.7)"
   ]
  },
  {
   "cell_type": "code",
   "execution_count": 6,
   "id": "6beead01",
   "metadata": {},
   "outputs": [
    {
     "data": {
      "text/plain": [
       "array([[ 4.386,  0.   ],\n",
       "       [ 0.   , 21.739]])"
      ]
     },
     "execution_count": 6,
     "metadata": {},
     "output_type": "execute_result"
    }
   ],
   "source": [
    "localization.R_inv"
   ]
  },
  {
   "cell_type": "code",
   "execution_count": 7,
   "id": "5ae8a9a9",
   "metadata": {},
   "outputs": [],
   "source": [
    "localization.localize()"
   ]
  },
  {
   "cell_type": "code",
   "execution_count": 15,
   "id": "046dc1e2",
   "metadata": {},
   "outputs": [],
   "source": [
    "Grid_size = 10000\n",
    "x1s = np.linspace(-1000,3000, Grid_size) # creating linearly spaced values in the interval (0, 1)\n",
    "x2s = np.linspace(-1000,3000, Grid_size)\n",
    "x_grid,y_grid = np.meshgrid(x1s,x2s) # creating rectangular grid\n",
    "J = np.zeros((Grid_size,Grid_size))"
   ]
  },
  {
   "cell_type": "code",
   "execution_count": 20,
   "id": "9785f857",
   "metadata": {},
   "outputs": [
    {
     "name": "stdout",
     "output_type": "stream",
     "text": [
      "Estimation(px=np.float64(5472.609203709206), py=np.float64(975.4682879132438), psi=np.float64(12.301873696053248))\n",
      "Estimation(px=np.float64(5472.609203709206), py=np.float64(975.4682879132438), psi=np.float64(12.301873696053248))\n",
      "Estimation(px=np.float64(-166.58872729342636), py=np.float64(396.9608773722474), psi=np.float64(1.89746994550507))\n",
      "Estimation(px=np.float64(-166.58872729342636), py=np.float64(396.9608773722474), psi=np.float64(1.89746994550507))\n",
      "Estimation(px=np.float64(-812.0155791235807), py=np.float64(85.66176119376371), psi=np.float64(3.0126042537028717))\n",
      "Estimation(px=np.float64(-812.0155791235807), py=np.float64(85.66176119376371), psi=np.float64(3.0126042537028717))\n",
      "Estimation(px=np.float64(-2178.812425559133), py=np.float64(29.839375630294356), psi=np.float64(0.0013983714112180514))\n",
      "Estimation(px=np.float64(-2178.812425559133), py=np.float64(29.839375630294356), psi=np.float64(0.0013983714112180514))\n",
      "Estimation(px=np.float64(-68428.16955010734), py=np.float64(1198.0403783167985), psi=np.float64(0.07385250835500612))\n",
      "Estimation(px=np.float64(-68428.16955010734), py=np.float64(1198.0403783167985), psi=np.float64(0.07385250835500612))\n",
      "Estimation(px=np.float64(-112829.5362795578), py=np.float64(2463.345846368034), psi=np.float64(0.19775345937818753))\n",
      "Estimation(px=np.float64(-112829.5362795578), py=np.float64(2463.345846368034), psi=np.float64(0.19775345937818753))\n",
      "Estimation(px=np.float64(-118645.91364144855), py=np.float64(2962.8844077738663), psi=np.float64(0.3115179054534621))\n",
      "Estimation(px=np.float64(-118645.91364144855), py=np.float64(2962.8844077738663), psi=np.float64(0.3115179054534621))\n",
      "Estimation(px=np.float64(-103488.49859926513), py=np.float64(2958.1181820902034), psi=np.float64(0.4166137495608306))\n",
      "Estimation(px=np.float64(-103488.49859926513), py=np.float64(2958.1181820902034), psi=np.float64(0.4166137495608306))\n"
     ]
    }
   ],
   "source": [
    "for qr in qr_codes:\n",
    "    print(qr.estimation[9])\n",
    "    print(qr.estimation[9])\n",
    "    # plt.figure(figsize=(10,7))\n",
    "    # plt.contourf(x_grid,y_grid,J, 100)\n",
    "    # plt.colorbar()\n",
    "    # plt.plot([[estimation.px] for estimation in qr.estimation],[[estimation.py] for estimation in qr.estimation],c='r',marker=\"P\",linewidth=0.5)"
   ]
  },
  {
   "cell_type": "code",
   "execution_count": null,
   "id": "46b01112",
   "metadata": {},
   "outputs": [],
   "source": []
  }
 ],
 "metadata": {
  "kernelspec": {
   "display_name": "bsf",
   "language": "python",
   "name": "python3"
  },
  "language_info": {
   "codemirror_mode": {
    "name": "ipython",
    "version": 3
   },
   "file_extension": ".py",
   "mimetype": "text/x-python",
   "name": "python",
   "nbconvert_exporter": "python",
   "pygments_lexer": "ipython3",
   "version": "3.12.4"
  }
 },
 "nbformat": 4,
 "nbformat_minor": 5
}
