{
 "cells": [
  {
   "cell_type": "code",
   "id": "initial_id",
   "metadata": {
    "collapsed": true,
    "ExecuteTime": {
     "end_time": "2024-11-27T10:17:13.214491Z",
     "start_time": "2024-11-27T10:17:13.211398Z"
    }
   },
   "source": [
    "import pandas as pd\n",
    "import numpy as np\n",
    "import matplotlib.pyplot as plt"
   ],
   "outputs": [],
   "execution_count": 5
  },
  {
   "metadata": {},
   "cell_type": "markdown",
   "source": "# Function g",
   "id": "7644e416862d3478"
  },
  {
   "metadata": {},
   "cell_type": "code",
   "outputs": [],
   "execution_count": null,
   "source": [
    "def g(h0, f, sx, px, sy, py, psi):\n",
    "    \"\"\"\n",
    "    What the function does\n",
    "    :param x: x = [px, py, psi]\n",
    "    :return: measurement model g\n",
    "    \"\"\"\n",
    "    \n",
    "    h = (h0*f)/np.sqrt((sx-px)**2+(sy-py)**2)\n",
    "    \n",
    "    cx = f*np.tan(np.arctan((sy-py)/(sx-px))-psi)\n",
    "    \n",
    "    g_function = np.array([[h],[cx]])\n",
    "    \n",
    "    return g_function"
   ],
   "id": "3cee20dbb2d82060"
  },
  {
   "metadata": {},
   "cell_type": "code",
   "outputs": [],
   "execution_count": null,
   "source": [
    "def sec(phi):\n",
    "    \n",
    "    '''\n",
    "    What the function does\n",
    "    :param phi: \n",
    "    :return: \n",
    "    '''\n",
    "    \n",
    "    func = 1/np.cos(phi)\n",
    "    \n",
    "    return func"
   ],
   "id": "75bba6bd03d633a0"
  },
  {
   "metadata": {},
   "cell_type": "markdown",
   "source": "# Defining Jacobian G",
   "id": "a03461813a57f2e5"
  },
  {
   "metadata": {
    "ExecuteTime": {
     "end_time": "2024-11-27T10:37:56.990003Z",
     "start_time": "2024-11-27T10:37:56.981855Z"
    }
   },
   "cell_type": "code",
   "source": [
    "def G(h0, sx, px, sy, py, psi):\n",
    "    \n",
    "    '''\n",
    "    What the function does\n",
    "    :param h0: \n",
    "    :param sx: \n",
    "    :param px: \n",
    "    :param sy: \n",
    "    :param py: \n",
    "    :param psi: \n",
    "    :return: \n",
    "    '''\n",
    "    \n",
    "    jacobian = np.zeros((2,3))\n",
    "    \n",
    "    # df1 / dpx\n",
    "    jacobian[0][0] = (4 * h0 * (sx - px)) / (((sx - px) ** 2 + (sy - py) ** 2) ** (1 / 3))\n",
    "    \n",
    "    # df1 / dpy\n",
    "    jacobian[0][1] = (4 * h0 * (sy - py)) / (((sx - px) ** 2 + (sy - py) ** 2) ** (1 / 3))\n",
    "    \n",
    "    # df1 / dpsi\n",
    "    jacobian[0][2] = 0\n",
    "    \n",
    "    # df2 / dpx\n",
    "    jacobian[1][0] = (np.tan(psi)) / ((sx - px) + (sy - py) * np.tan(psi)) + (sy - py - (sx - px) * np.tan(psi)) / ((sx - px + (sy - py) * np.tan(psi))**2)   \n",
    "    \n",
    "    # df2 / dpy\n",
    "    jacobian[1][1] = - 1 / (sx - px + (sy - py) * np.tan(psi)) - ((sy - py - (sx - px) * np.tan(psi)) * np.tan(psi)) / ((sx - px + (sy - py) * np.tan(psi))**2)\n",
    "    \n",
    "    # df2 / dpsi\n",
    "    jacobian[1][2] = (- (sx - px) * (sec(psi)) ** 2) / (sx - px + (sy - py) * np.tan(psi)) - ((sy - py - (sx - px) * np.tan(psi)) * (sy - py) * (sec(psi)) ** 2) / (sx - px + (sy - py) * np.tan(psi)) ** 2\n",
    "    \n",
    "    return jacobian\n",
    "\n"
   ],
   "id": "4d8c0aa254950adc",
   "outputs": [],
   "execution_count": 6
  },
  {
   "metadata": {},
   "cell_type": "markdown",
   "source": "# Defining the measuremet function",
   "id": "271e01f2b2410bdd"
  },
  {
   "metadata": {},
   "cell_type": "code",
   "outputs": [],
   "execution_count": null,
   "source": "y = g(x) + r",
   "id": "c4fb10c571210f4c"
  },
  {
   "metadata": {},
   "cell_type": "markdown",
   "source": "# Gauss Newton with line search",
   "id": "ddc547ebc72b418c"
  },
  {
   "metadata": {},
   "cell_type": "code",
   "outputs": [],
   "execution_count": null,
   "source": [
    "# Routine for Gauss Netwon with Line Search\n",
    " \n",
    "# tuning parameter\n",
    "iteration_end = 10 \n",
    "\n",
    "# set x_0\n",
    "x_0 = 0\n",
    "\n",
    "R_inv = 0\n",
    "\n",
    "N = 0\n",
    "\n",
    "J_cost = 0\n",
    "\n",
    "y = 0\n",
    "\n",
    "h0 = \n",
    "\n",
    "\n",
    "x_GN_LS = np.zeros((iteration_end,2)) #the path of the estimation\n",
    "x_GN_LS[0,:] = x_0\n",
    "N_gamma_grid = 1000\n",
    "gamma_max = 50\n",
    "gamma = np.arange(1,N_gamma_grid+1)*gamma_max/N_gamma_grid\n",
    "\n",
    "for j in range(iteration_end-1):\n",
    "    x_now = x_GN_LS[j,:]\n",
    "    gj = g(x_now)\n",
    "    Gj = G(x_now)\n",
    "    Delta_x = np.linalg.solve((Gj.T @ R_inv @ Gj),Gj.T@ R_inv @ np.sum(y - gj , axis=0) / N)\n",
    "    J_min = J_cost(y,x_now)\n",
    "    gamma_min = 0\n",
    "\n",
    "    for k in range(N_gamma_grid):\n",
    "        J_prop = J_cost(y,x_now+gamma[k]*Delta_x)\n",
    "        if J_prop < J_min:\n",
    "            J_min = J_prop\n",
    "            gamma_min = gamma[k]\n",
    "\n",
    "    print('Gamma_min = {0:.3f}'.format(gamma_min))\n",
    "    x_GN_LS[j+1,:] = x_now + gamma_min * Delta_x"
   ],
   "id": "1c422a0db7888f15"
  }
 ],
 "metadata": {
  "kernelspec": {
   "display_name": "Python 3",
   "language": "python",
   "name": "python3"
  },
  "language_info": {
   "codemirror_mode": {
    "name": "ipython",
    "version": 2
   },
   "file_extension": ".py",
   "mimetype": "text/x-python",
   "name": "python",
   "nbconvert_exporter": "python",
   "pygments_lexer": "ipython2",
   "version": "2.7.6"
  }
 },
 "nbformat": 4,
 "nbformat_minor": 5
}
