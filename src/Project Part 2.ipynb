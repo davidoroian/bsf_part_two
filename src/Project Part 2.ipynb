{
 "cells": [
  {
   "cell_type": "code",
   "execution_count": 259,
   "id": "initial_id",
   "metadata": {
    "ExecuteTime": {
     "end_time": "2024-11-27T10:17:13.214491Z",
     "start_time": "2024-11-27T10:17:13.211398Z"
    },
    "collapsed": true
   },
   "outputs": [],
   "source": [
    "import pandas as pd\n",
    "import numpy as np\n",
    "import matplotlib.pyplot as plt"
   ]
  },
  {
   "cell_type": "markdown",
   "id": "7644e416862d3478",
   "metadata": {},
   "source": [
    "# Function g"
   ]
  },
  {
   "cell_type": "code",
   "execution_count": 260,
   "id": "3cee20dbb2d82060",
   "metadata": {},
   "outputs": [],
   "source": [
    "def g(h0, f, sx, px, sy, py, psi):\n",
    "    \"\"\"\n",
    "    What the function does\n",
    "    :param x: x = [px, py, psi]\n",
    "    :return: measurement model g\n",
    "    \"\"\"\n",
    "    \n",
    "    h = (h0*f)/np.sqrt((sx-px)**2+(sy-py)**2)\n",
    "    \n",
    "    cx = f*np.tan(np.arctan((sy-py)/(sx-px))-psi)\n",
    "    \n",
    "    g_function = np.array([[h],[cx]])\n",
    "    \n",
    "    return g_function"
   ]
  },
  {
   "cell_type": "code",
   "execution_count": 261,
   "id": "75bba6bd03d633a0",
   "metadata": {},
   "outputs": [],
   "source": [
    "def sec(phi):\n",
    "    \n",
    "    '''\n",
    "    What the function does\n",
    "    :param phi: \n",
    "    :return: \n",
    "    '''\n",
    "    \n",
    "    func = 1/np.cos(phi)\n",
    "    \n",
    "    return func"
   ]
  },
  {
   "cell_type": "markdown",
   "id": "a03461813a57f2e5",
   "metadata": {},
   "source": [
    "# Defining Jacobian G"
   ]
  },
  {
   "cell_type": "code",
   "execution_count": 262,
   "id": "4d8c0aa254950adc",
   "metadata": {
    "ExecuteTime": {
     "end_time": "2024-11-27T10:37:56.990003Z",
     "start_time": "2024-11-27T10:37:56.981855Z"
    }
   },
   "outputs": [],
   "source": [
    "def G(h0, sx, px, sy, py, psi):\n",
    "    \n",
    "    '''\n",
    "    What the function does\n",
    "    :param h0: \n",
    "    :param sx: \n",
    "    :param px: \n",
    "    :param sy: \n",
    "    :param py: \n",
    "    :param psi: \n",
    "    :return: \n",
    "    '''\n",
    "    \n",
    "    jacobian = np.zeros((2,3))\n",
    "    \n",
    "    # df1 / dpx\n",
    "    jacobian[0][0] = (4 * h0 * (sx - px)) / (((sx - px) ** 2 + (sy - py) ** 2) ** (1 / 3))\n",
    "    \n",
    "    # df1 / dpy\n",
    "    jacobian[0][1] = (4 * h0 * (sy - py)) / (((sx - px) ** 2 + (sy - py) ** 2) ** (1 / 3))\n",
    "    \n",
    "    # df1 / dpsi\n",
    "    jacobian[0][2] = 0\n",
    "    \n",
    "    # df2 / dpx\n",
    "    jacobian[1][0] = (np.tan(psi)) / ((sx - px) + (sy - py) * np.tan(psi)) + (sy - py - (sx - px) * np.tan(psi)) / ((sx - px + (sy - py) * np.tan(psi))**2)   \n",
    "    \n",
    "    # df2 / dpy\n",
    "    jacobian[1][1] = - 1 / (sx - px + (sy - py) * np.tan(psi)) - ((sy - py - (sx - px) * np.tan(psi)) * np.tan(psi)) / ((sx - px + (sy - py) * np.tan(psi))**2)\n",
    "    \n",
    "    # df2 / dpsi\n",
    "    jacobian[1][2] = (- (sx - px) * (sec(psi)) ** 2) / (sx - px + (sy - py) * np.tan(psi)) - ((sy - py - (sx - px) * np.tan(psi)) * (sy - py) * (sec(psi)) ** 2) / (sx - px + (sy - py) * np.tan(psi)) ** 2\n",
    "    \n",
    "    return jacobian\n",
    "\n"
   ]
  },
  {
   "cell_type": "code",
   "execution_count": 263,
   "id": "89af3541",
   "metadata": {},
   "outputs": [],
   "source": [
    "qr_df = pd.read_csv('../data/qr_code_position_in_global_coordinate.csv')\n",
    "camera_df = pd.read_csv('../data/task5/camera_localization_task5.csv')\n",
    "\n",
    "camera_columns = ['timestammp', 'qr_code', 'cx', 'cy', 'width', 'height', 'distance', 'attitude']"
   ]
  },
  {
   "cell_type": "code",
   "execution_count": 264,
   "id": "ff035692",
   "metadata": {},
   "outputs": [],
   "source": [
    "from sklearn import linear_model\n",
    "\n",
    "path = \"../data//task3//camera_module_calibration_task3.csv\"\n",
    "calibration_data = np.loadtxt(path, delimiter=',')\n",
    "distances_cm = calibration_data[:,0]+1.7+5 #added Distance of camera pinhole and the IR detector and Distance of the wall and the wooden list\n",
    "heights_px = calibration_data[:,1]\n",
    "\n",
    "regr = linear_model.LinearRegression()\n",
    "X = (1/heights_px).reshape(-1, 1)\n",
    "regr.fit(X, distances_cm)\n",
    "distances_cm_pred = regr.predict(X)\n",
    "\n",
    "gradient = regr.coef_\n",
    "bias = regr.intercept_"
   ]
  },
  {
   "cell_type": "code",
   "execution_count": 265,
   "id": "5f835c69",
   "metadata": {},
   "outputs": [],
   "source": [
    "h0 = 11.5\n",
    "f = gradient/h0"
   ]
  },
  {
   "cell_type": "markdown",
   "id": "271e01f2b2410bdd",
   "metadata": {},
   "source": [
    "# Defining the measuremet function"
   ]
  },
  {
   "cell_type": "code",
   "execution_count": 266,
   "id": "c4fb10c571210f4c",
   "metadata": {},
   "outputs": [
    {
     "ename": "NameError",
     "evalue": "name 'sx' is not defined",
     "output_type": "error",
     "traceback": [
      "\u001b[1;31m---------------------------------------------------------------------------\u001b[0m",
      "\u001b[1;31mNameError\u001b[0m                                 Traceback (most recent call last)",
      "Cell \u001b[1;32mIn[266], line 1\u001b[0m\n\u001b[1;32m----> 1\u001b[0m y \u001b[38;5;241m=\u001b[39m g(h0, f, \u001b[43msx\u001b[49m, px, sy, py, psi) \u001b[38;5;241m+\u001b[39m r\n",
      "\u001b[1;31mNameError\u001b[0m: name 'sx' is not defined"
     ]
    }
   ],
   "source": [
    "y = g(h0, f, sx, px, sy, py, psi) + r"
   ]
  },
  {
   "cell_type": "markdown",
   "id": "ddc547ebc72b418c",
   "metadata": {},
   "source": [
    "# Gauss Newton with line search"
   ]
  },
  {
   "cell_type": "code",
   "execution_count": null,
   "id": "1c422a0db7888f15",
   "metadata": {},
   "outputs": [
    {
     "ename": "SyntaxError",
     "evalue": "invalid syntax (1248178900.py, line 17)",
     "output_type": "error",
     "traceback": [
      "\u001b[0;36m  Cell \u001b[0;32mIn[1], line 17\u001b[0;36m\u001b[0m\n\u001b[0;31m    h0 =\u001b[0m\n\u001b[0m         ^\u001b[0m\n\u001b[0;31mSyntaxError\u001b[0m\u001b[0;31m:\u001b[0m invalid syntax\n"
     ]
    }
   ],
   "source": [
    "# Routine for Gauss Netwon with Line Search\n",
    " \n",
    "# tuning parameter\n",
    "iteration_end = 10 \n",
    "\n",
    "# set x_0\n",
    "x_0 = 0\n",
    "\n",
    "R_inv = 0\n",
    "\n",
    "N = 0\n",
    "\n",
    "J_cost = 0\n",
    "\n",
    "y = 0\n",
    "\n",
    "h0 = 0\n",
    "\n",
    "\n",
    "x_GN_LS = np.zeros((iteration_end,2)) #the path of the estimation\n",
    "x_GN_LS[0,:] = x_0\n",
    "N_gamma_grid = 1000\n",
    "gamma_max = 50\n",
    "gamma = np.arange(1,N_gamma_grid+1)*gamma_max/N_gamma_grid\n",
    "\n",
    "for j in range(iteration_end-1):\n",
    "    x_now = x_GN_LS[j,:]\n",
    "    gj = g(x_now)\n",
    "    Gj = G(x_now)\n",
    "    Delta_x = np.linalg.solve((Gj.T @ R_inv @ Gj),Gj.T@ R_inv @ np.sum(y - gj , axis=0) / N)\n",
    "    J_min = J_cost(y,x_now)\n",
    "    gamma_min = 0\n",
    "\n",
    "    for k in range(N_gamma_grid):\n",
    "        J_prop = J_cost(y,x_now+gamma[k]*Delta_x)\n",
    "        if J_prop < J_min:\n",
    "            J_min = J_prop\n",
    "            gamma_min = gamma[k]\n",
    "\n",
    "    print('Gamma_min = {0:.3f}'.format(gamma_min))\n",
    "    x_GN_LS[j+1,:] = x_now + gamma_min * Delta_x"
   ]
  }
 ],
 "metadata": {
  "kernelspec": {
   "display_name": "Python 3",
   "language": "python",
   "name": "python3"
  },
  "language_info": {
   "codemirror_mode": {
    "name": "ipython",
    "version": 3
   },
   "file_extension": ".py",
   "mimetype": "text/x-python",
   "name": "python",
   "nbconvert_exporter": "python",
   "pygments_lexer": "ipython3",
   "version": "3.10.4"
  }
 },
 "nbformat": 4,
 "nbformat_minor": 5
}
