{
 "cells": [
  {
   "cell_type": "code",
   "execution_count": 1,
   "id": "initial_id",
   "metadata": {
    "ExecuteTime": {
     "end_time": "2024-11-27T10:17:13.214491Z",
     "start_time": "2024-11-27T10:17:13.211398Z"
    },
    "collapsed": true
   },
   "outputs": [],
   "source": [
    "import pandas as pd\n",
    "import numpy as np\n",
    "import matplotlib.pyplot as plt"
   ]
  },
  {
   "cell_type": "code",
   "execution_count": 2,
   "id": "89af3541",
   "metadata": {},
   "outputs": [],
   "source": [
    "from modules.qr_code import QrCode, Measurement\n",
    "\n",
    "# Loading data\n",
    "camera_columns = ['timestamp', 'qr_code', 'cx', 'cy', 'width', 'height', 'distance', 'attitude']\n",
    "\n",
    "qr_df = pd.read_csv('../data/qr_code_position_in_global_coordinate.csv')\n",
    "camera_df = pd.read_csv('../data/task5/camera_localization_task5.csv', header=None, names=camera_columns)"
   ]
  },
  {
   "cell_type": "code",
   "execution_count": 3,
   "id": "6d6d0daa",
   "metadata": {},
   "outputs": [],
   "source": [
    "# Setting up required QR codes' data for the task\n",
    "\n",
    "qr_codes = []\n",
    "for index, row in qr_df.iterrows():\n",
    "    if row['position_in_wall'] == 2 and row['qr_code'] != 13:\n",
    "        qr = QrCode(int(row['qr_code']), row['mid_point_x_cm'], row['mid_point_y_cm'])\n",
    "        qr_codes.append(qr)\n",
    "\n",
    "for qr in qr_codes:\n",
    "    for index, row in camera_df.iterrows():\n",
    "        if row['qr_code'] == qr.id:\n",
    "            qr.add_measurement(Measurement(row['timestamp'], row['cx'], row['height']))"
   ]
  },
  {
   "cell_type": "code",
   "execution_count": 4,
   "id": "9659c53f",
   "metadata": {},
   "outputs": [],
   "source": [
    "#Compute the variances of the measurements\n",
    "for qr in qr_codes:\n",
    "    qr.compute_variance()"
   ]
  },
  {
   "cell_type": "code",
   "execution_count": 5,
   "id": "95202982",
   "metadata": {},
   "outputs": [],
   "source": [
    "from modules.localization import Localization\n",
    "\n",
    "localization = Localization(h0=11.5, path=\"../data/task3/camera_module_calibration_task3.csv\", qr_codes=qr_codes, distance_bias=6.7)"
   ]
  },
  {
   "cell_type": "code",
   "execution_count": 6,
   "id": "1a1ce93e",
   "metadata": {},
   "outputs": [
    {
     "data": {
      "text/plain": [
       "(2, 2)"
      ]
     },
     "execution_count": 6,
     "metadata": {},
     "output_type": "execute_result"
    }
   ],
   "source": [
    "localization.R_inv.shape"
   ]
  },
  {
   "cell_type": "code",
   "execution_count": 7,
   "id": "5ae8a9a9",
   "metadata": {},
   "outputs": [
    {
     "name": "stdout",
     "output_type": "stream",
     "text": [
      "[[ 2.44041373e+05 -9.19888280e+01 -5.67066224e+04]\n",
      " [-9.19888280e+01  7.32949223e-01  2.14083478e+01]\n",
      " [-5.67066224e+04  2.14083478e+01  1.31766240e+04]]\n",
      "[-5.53901815e+06  2.12655706e+03  1.28707464e+06]\n",
      "[[ 8.45773691e+04 -1.94073220e+00  1.61663690e+03]\n",
      " [-1.94073220e+00  2.09799864e-03 -3.70906985e-02]\n",
      " [ 1.61663690e+03 -3.70906985e-02  3.09008769e+01]]\n",
      "[-6.82365629e+03 -5.44982554e+00 -1.30443127e+02]\n",
      "[[ 8.45773691e+04 -1.94073220e+00  1.61663690e+03]\n",
      " [-1.94073220e+00  2.09799864e-03 -3.70906985e-02]\n",
      " [ 1.61663690e+03 -3.70906985e-02  3.09008769e+01]]\n",
      "[-6.82365629e+03 -5.44982554e+00 -1.30443127e+02]\n",
      "[[ 8.45773691e+04 -1.94073220e+00  1.61663690e+03]\n",
      " [-1.94073220e+00  2.09799864e-03 -3.70906985e-02]\n",
      " [ 1.61663690e+03 -3.70906985e-02  3.09008769e+01]]\n",
      "[-6.82365629e+03 -5.44982554e+00 -1.30443127e+02]\n",
      "[[ 8.45773691e+04 -1.94073220e+00  1.61663690e+03]\n",
      " [-1.94073220e+00  2.09799864e-03 -3.70906985e-02]\n",
      " [ 1.61663690e+03 -3.70906985e-02  3.09008769e+01]]\n",
      "[-6.82365629e+03 -5.44982554e+00 -1.30443127e+02]\n",
      "[[ 8.45773691e+04 -1.94073220e+00  1.61663690e+03]\n",
      " [-1.94073220e+00  2.09799864e-03 -3.70906985e-02]\n",
      " [ 1.61663690e+03 -3.70906985e-02  3.09008769e+01]]\n",
      "[-6.82365629e+03 -5.44982554e+00 -1.30443127e+02]\n",
      "[[ 8.45773691e+04 -1.94073220e+00  1.61663690e+03]\n",
      " [-1.94073220e+00  2.09799864e-03 -3.70906985e-02]\n",
      " [ 1.61663690e+03 -3.70906985e-02  3.09008769e+01]]\n",
      "[-6.82365629e+03 -5.44982554e+00 -1.30443127e+02]\n",
      "[[ 8.45773691e+04 -1.94073220e+00  1.61663690e+03]\n",
      " [-1.94073220e+00  2.09799864e-03 -3.70906985e-02]\n",
      " [ 1.61663690e+03 -3.70906985e-02  3.09008769e+01]]\n",
      "[-6.82365629e+03 -5.44982554e+00 -1.30443127e+02]\n",
      "[[ 8.45773691e+04 -1.94073220e+00  1.61663690e+03]\n",
      " [-1.94073220e+00  2.09799864e-03 -3.70906985e-02]\n",
      " [ 1.61663690e+03 -3.70906985e-02  3.09008769e+01]]\n",
      "[-6.82365629e+03 -5.44982554e+00 -1.30443127e+02]\n",
      "[[ 5.08647630e+04 -2.82357044e+01 -1.23906455e+04]\n",
      " [-2.82357044e+01  6.21831316e-01  6.92317035e+00]\n",
      " [-1.23906455e+04  6.92317035e+00  3.01836194e+03]]\n",
      "[-1.70489718e+06  9.87899520e+02  4.15315668e+05]\n"
     ]
    },
    {
     "ename": "LinAlgError",
     "evalue": "Singular matrix",
     "output_type": "error",
     "traceback": [
      "\u001b[1;31m---------------------------------------------------------------------------\u001b[0m",
      "\u001b[1;31mLinAlgError\u001b[0m                               Traceback (most recent call last)",
      "Cell \u001b[1;32mIn[7], line 1\u001b[0m\n\u001b[1;32m----> 1\u001b[0m localization\u001b[38;5;241m.\u001b[39mlocalize()\n",
      "File \u001b[1;32md:\\EDS\\BSF\\bsf_part_two\\src\\modules\\localization.py:131\u001b[0m, in \u001b[0;36mLocalization.localize\u001b[1;34m(self, x_0, N_gamma_grid, gamma_max, iteration_end)\u001b[0m\n\u001b[0;32m    129\u001b[0m \u001b[38;5;28mprint\u001b[39m(Gj\u001b[38;5;241m.\u001b[39mT \u001b[38;5;241m@\u001b[39m \u001b[38;5;28mself\u001b[39m\u001b[38;5;241m.\u001b[39mR_inv \u001b[38;5;241m@\u001b[39m Gj)\n\u001b[0;32m    130\u001b[0m \u001b[38;5;28mprint\u001b[39m(Gj\u001b[38;5;241m.\u001b[39mT\u001b[38;5;241m@\u001b[39m \u001b[38;5;28mself\u001b[39m\u001b[38;5;241m.\u001b[39mR_inv \u001b[38;5;241m@\u001b[39m np\u001b[38;5;241m.\u001b[39msum(y \u001b[38;5;241m-\u001b[39m gj , axis\u001b[38;5;241m=\u001b[39m\u001b[38;5;241m0\u001b[39m) \u001b[38;5;241m/\u001b[39m \u001b[38;5;28mlen\u001b[39m(y))\n\u001b[1;32m--> 131\u001b[0m Delta_x \u001b[38;5;241m=\u001b[39m np\u001b[38;5;241m.\u001b[39mlinalg\u001b[38;5;241m.\u001b[39msolve((Gj\u001b[38;5;241m.\u001b[39mT \u001b[38;5;241m@\u001b[39m \u001b[38;5;28mself\u001b[39m\u001b[38;5;241m.\u001b[39mR_inv \u001b[38;5;241m@\u001b[39m Gj),Gj\u001b[38;5;241m.\u001b[39mT\u001b[38;5;241m@\u001b[39m \u001b[38;5;28mself\u001b[39m\u001b[38;5;241m.\u001b[39mR_inv \u001b[38;5;241m@\u001b[39m np\u001b[38;5;241m.\u001b[39msum(y \u001b[38;5;241m-\u001b[39m gj , axis\u001b[38;5;241m=\u001b[39m\u001b[38;5;241m0\u001b[39m) \u001b[38;5;241m/\u001b[39m \u001b[38;5;28mlen\u001b[39m(y))\n\u001b[0;32m    132\u001b[0m J_min \u001b[38;5;241m=\u001b[39m \u001b[38;5;28mself\u001b[39m\u001b[38;5;241m.\u001b[39mJwls(x_now, y, qr\u001b[38;5;241m.\u001b[39msx, qr\u001b[38;5;241m.\u001b[39msy)\n\u001b[0;32m    133\u001b[0m gamma_min \u001b[38;5;241m=\u001b[39m \u001b[38;5;241m0\u001b[39m\n",
      "File \u001b[1;32mc:\\Users\\oroia\\anaconda3\\envs\\bsf\\Lib\\site-packages\\numpy\\linalg\\_linalg.py:413\u001b[0m, in \u001b[0;36msolve\u001b[1;34m(a, b)\u001b[0m\n\u001b[0;32m    410\u001b[0m signature \u001b[38;5;241m=\u001b[39m \u001b[38;5;124m'\u001b[39m\u001b[38;5;124mDD->D\u001b[39m\u001b[38;5;124m'\u001b[39m \u001b[38;5;28;01mif\u001b[39;00m isComplexType(t) \u001b[38;5;28;01melse\u001b[39;00m \u001b[38;5;124m'\u001b[39m\u001b[38;5;124mdd->d\u001b[39m\u001b[38;5;124m'\u001b[39m\n\u001b[0;32m    411\u001b[0m \u001b[38;5;28;01mwith\u001b[39;00m errstate(call\u001b[38;5;241m=\u001b[39m_raise_linalgerror_singular, invalid\u001b[38;5;241m=\u001b[39m\u001b[38;5;124m'\u001b[39m\u001b[38;5;124mcall\u001b[39m\u001b[38;5;124m'\u001b[39m,\n\u001b[0;32m    412\u001b[0m               over\u001b[38;5;241m=\u001b[39m\u001b[38;5;124m'\u001b[39m\u001b[38;5;124mignore\u001b[39m\u001b[38;5;124m'\u001b[39m, divide\u001b[38;5;241m=\u001b[39m\u001b[38;5;124m'\u001b[39m\u001b[38;5;124mignore\u001b[39m\u001b[38;5;124m'\u001b[39m, under\u001b[38;5;241m=\u001b[39m\u001b[38;5;124m'\u001b[39m\u001b[38;5;124mignore\u001b[39m\u001b[38;5;124m'\u001b[39m):\n\u001b[1;32m--> 413\u001b[0m     r \u001b[38;5;241m=\u001b[39m gufunc(a, b, signature\u001b[38;5;241m=\u001b[39msignature)\n\u001b[0;32m    415\u001b[0m \u001b[38;5;28;01mreturn\u001b[39;00m wrap(r\u001b[38;5;241m.\u001b[39mastype(result_t, copy\u001b[38;5;241m=\u001b[39m\u001b[38;5;28;01mFalse\u001b[39;00m))\n",
      "File \u001b[1;32mc:\\Users\\oroia\\anaconda3\\envs\\bsf\\Lib\\site-packages\\numpy\\linalg\\_linalg.py:104\u001b[0m, in \u001b[0;36m_raise_linalgerror_singular\u001b[1;34m(err, flag)\u001b[0m\n\u001b[0;32m    103\u001b[0m \u001b[38;5;28;01mdef\u001b[39;00m \u001b[38;5;21m_raise_linalgerror_singular\u001b[39m(err, flag):\n\u001b[1;32m--> 104\u001b[0m     \u001b[38;5;28;01mraise\u001b[39;00m LinAlgError(\u001b[38;5;124m\"\u001b[39m\u001b[38;5;124mSingular matrix\u001b[39m\u001b[38;5;124m\"\u001b[39m)\n",
      "\u001b[1;31mLinAlgError\u001b[0m: Singular matrix"
     ]
    }
   ],
   "source": [
    "localization.localize()"
   ]
  }
 ],
 "metadata": {
  "kernelspec": {
   "display_name": "bsf",
   "language": "python",
   "name": "python3"
  },
  "language_info": {
   "codemirror_mode": {
    "name": "ipython",
    "version": 3
   },
   "file_extension": ".py",
   "mimetype": "text/x-python",
   "name": "python",
   "nbconvert_exporter": "python",
   "pygments_lexer": "ipython3",
   "version": "3.12.4"
  }
 },
 "nbformat": 4,
 "nbformat_minor": 5
}
