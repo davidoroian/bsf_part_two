{
 "cells": [
  {
   "cell_type": "code",
   "execution_count": 1,
   "id": "initial_id",
   "metadata": {
    "ExecuteTime": {
     "end_time": "2024-11-27T10:17:13.214491Z",
     "start_time": "2024-11-27T10:17:13.211398Z"
    },
    "collapsed": true
   },
   "outputs": [],
   "source": [
    "import pandas as pd\n",
    "import numpy as np\n",
    "import matplotlib.pyplot as plt"
   ]
  },
  {
   "cell_type": "code",
   "execution_count": 2,
   "id": "89af3541",
   "metadata": {},
   "outputs": [],
   "source": [
    "from modules.qr_code import QrCode, Measurement\n",
    "\n",
    "# Loading data\n",
    "camera_columns = ['timestamp', 'qr_code', 'cx', 'cy', 'width', 'height', 'distance', 'attitude']\n",
    "\n",
    "qr_df = pd.read_csv('../data/qr_code_position_in_global_coordinate.csv')\n",
    "camera_df = pd.read_csv('../data/task5/camera_localization_task5.csv', header=None, names=camera_columns)"
   ]
  },
  {
   "cell_type": "code",
   "execution_count": 3,
   "id": "6d6d0daa",
   "metadata": {},
   "outputs": [],
   "source": [
    "# Setting up required QR codes' data for the task\n",
    "\n",
    "qr_codes = []\n",
    "for index, row in qr_df.iterrows():\n",
    "    if row['position_in_wall'] == 2 and row['qr_code'] != 13:\n",
    "        qr = QrCode(int(row['qr_code']), row['mid_point_x_cm'], row['mid_point_y_cm'])\n",
    "        qr_codes.append(qr)\n",
    "\n",
    "for qr in qr_codes:\n",
    "    for index, row in camera_df.iterrows():\n",
    "        if row['qr_code'] == qr.id:\n",
    "            qr.add_measurement(Measurement(row['timestamp'], row['cx'], row['height']))"
   ]
  },
  {
   "cell_type": "code",
   "execution_count": 4,
   "id": "9659c53f",
   "metadata": {},
   "outputs": [],
   "source": [
    "#Compute the variances of the measurements\n",
    "for qr in qr_codes:\n",
    "    qr.compute_variance()"
   ]
  },
  {
   "cell_type": "code",
   "execution_count": 5,
   "id": "95202982",
   "metadata": {},
   "outputs": [],
   "source": [
    "from modules.localization import Localization\n",
    "\n",
    "localization = Localization(h0=11.5, path=\"../data/task3/camera_module_calibration_task3.csv\", qr_codes=qr_codes, distance_bias=6.7)"
   ]
  },
  {
   "cell_type": "code",
   "execution_count": 6,
   "id": "6beead01",
   "metadata": {},
   "outputs": [
    {
     "data": {
      "text/plain": [
       "array([[ 4.386,  0.   ],\n",
       "       [ 0.   , 21.739]])"
      ]
     },
     "execution_count": 6,
     "metadata": {},
     "output_type": "execute_result"
    }
   ],
   "source": [
    "localization.R_inv"
   ]
  },
  {
   "cell_type": "code",
   "execution_count": 7,
   "id": "5ae8a9a9",
   "metadata": {},
   "outputs": [
    {
     "name": "stdout",
     "output_type": "stream",
     "text": [
      "[-1.12124303e+04  4.62916176e+01  7.73925506e-04]\n",
      "[625.20525569 100.84494373   1.27480155]\n",
      "[ -3.71050067 -84.75551956 113.99009168]\n",
      "[ -3.71050067 -84.75551956 113.99009168]\n",
      "[ -3.71050067 -84.75551956 113.99009168]\n",
      "[ -3.71050067 -84.75551956 113.99009168]\n",
      "[ -3.71050067 -84.75551956 113.99009168]\n",
      "[ -3.71050067 -84.75551956 113.99009168]\n",
      "[ -3.71050067 -84.75551956 113.99009168]\n",
      "[-7.55941827e+03  5.32888926e+01  1.28146478e-03]\n",
      "[ 62.17123129 115.96953904   0.55806055]\n",
      "[ 2.87034350e+01 -1.10259568e+02 -2.57343768e-02]\n",
      "[ 2.87034350e+01 -1.10259568e+02 -2.57343768e-02]\n",
      "[ 2.87034350e+01 -1.10259568e+02 -2.57343768e-02]\n",
      "[ 2.87034350e+01 -1.10259568e+02 -2.57343768e-02]\n",
      "[ 2.87034350e+01 -1.10259568e+02 -2.57343768e-02]\n",
      "[ 2.87034350e+01 -1.10259568e+02 -2.57343768e-02]\n",
      "[ 2.87034350e+01 -1.10259568e+02 -2.57343768e-02]\n",
      "[-5.68437872e+03  6.13079210e+01  2.09436105e-03]\n",
      "[-38.30210023 128.28598074   1.97236834]\n",
      "[  -9.899701   -136.82706099   -1.6052094 ]\n",
      "[  13.33386902 -135.37286529   -1.89478072]\n",
      "[ 10.73747884 131.71584081   8.87652971]\n",
      "[ 10.73747884 131.71584081   8.87652971]\n",
      "[ 10.73747884 131.71584081   8.87652971]\n",
      "[ 10.73747884 131.71584081   8.87652971]\n",
      "[ 10.73747884 131.71584081   8.87652971]\n",
      "[-4.84180539e+03  6.63097236e+01  3.10749202e-03]\n",
      "[  5.32275485 124.76791972  55.71464183]\n",
      "[  5.32275485 124.76791972  55.71464183]\n",
      "[  5.32275485 124.76791972  55.71464183]\n",
      "[  5.32275485 124.76791972  55.71464183]\n",
      "[  5.32275485 124.76791972  55.71464183]\n",
      "[  5.32275485 124.76791972  55.71464183]\n",
      "[  5.32275485 124.76791972  55.71464183]\n",
      "[  5.32275485 124.76791972  55.71464183]\n",
      "[-4.37240700e+03  7.65521009e+01  4.71901012e-03]\n",
      "[ 0.91571337 -0.50182947 -3.83520089]\n",
      "[ 0.91571337 -0.50182947 -3.83520089]\n",
      "[ 0.91571337 -0.50182947 -3.83520089]\n",
      "[ 0.91571337 -0.50182947 -3.83520089]\n",
      "[ 0.91571337 -0.50182947 -3.83520089]\n",
      "[ 0.91571337 -0.50182947 -3.83520089]\n",
      "[ 0.91571337 -0.50182947 -3.83520089]\n",
      "[ 0.91571337 -0.50182947 -3.83520089]\n",
      "[-4.13295005e+03  9.02324486e+01  7.24371646e-03]\n",
      "[ 0.24685287 -0.15141065 -1.45305786]\n",
      "[ 0.24685287 -0.15141065 -1.45305786]\n",
      "[ 0.24685287 -0.15141065 -1.45305786]\n",
      "[ 0.24685287 -0.15141065 -1.45305786]\n",
      "[ 0.24685287 -0.15141065 -1.45305786]\n",
      "[ 0.24685287 -0.15141065 -1.45305786]\n",
      "[ 0.24685287 -0.15141065 -1.45305786]\n",
      "[ 0.24685287 -0.15141065 -1.45305786]\n",
      "[-4.03557529e+03  1.00778381e+02  1.05958471e-02]\n",
      "[ 0.23559218 -0.11910147 -1.29746713]\n",
      "[ 0.23559218 -0.11910147 -1.29746713]\n",
      "[ 0.23559218 -0.11910147 -1.29746713]\n",
      "[ 0.23559218 -0.11910147 -1.29746713]\n",
      "[ 0.23559218 -0.11910147 -1.29746713]\n",
      "[ 0.23559218 -0.11910147 -1.29746713]\n",
      "[ 0.23559218 -0.11910147 -1.29746713]\n",
      "[ 0.23559218 -0.11910147 -1.29746713]\n",
      "[-3.98799609e+03  1.13992994e+02  1.60544798e-02]\n",
      "[-0.87931093 -0.14673421 -1.87456222]\n",
      "[-0.87931093 -0.14673421 -1.87456222]\n",
      "[-0.87931093 -0.14673421 -1.87456222]\n",
      "[-0.87931093 -0.14673421 -1.87456222]\n",
      "[-0.87931093 -0.14673421 -1.87456222]\n",
      "[-0.87931093 -0.14673421 -1.87456222]\n",
      "[-0.87931093 -0.14673421 -1.87456222]\n",
      "[-0.87931093 -0.14673421 -1.87456222]\n"
     ]
    }
   ],
   "source": [
    "localization.localize()"
   ]
  }
 ],
 "metadata": {
  "kernelspec": {
   "display_name": "bsf",
   "language": "python",
   "name": "python3"
  },
  "language_info": {
   "codemirror_mode": {
    "name": "ipython",
    "version": 3
   },
   "file_extension": ".py",
   "mimetype": "text/x-python",
   "name": "python",
   "nbconvert_exporter": "python",
   "pygments_lexer": "ipython3",
   "version": "3.12.4"
  }
 },
 "nbformat": 4,
 "nbformat_minor": 5
}
