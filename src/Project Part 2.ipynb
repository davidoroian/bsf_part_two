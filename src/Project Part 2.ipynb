{
 "cells": [
  {
   "cell_type": "code",
   "id": "initial_id",
   "metadata": {
    "collapsed": true,
    "ExecuteTime": {
     "end_time": "2024-11-27T10:17:13.214491Z",
     "start_time": "2024-11-27T10:17:13.211398Z"
    }
   },
   "source": [
    "import pandas as pd\n",
    "import numpy as np\n",
    "import matplotlib.pyplot as plt"
   ],
   "outputs": [],
   "execution_count": 5
  },
  {
   "metadata": {
    "ExecuteTime": {
     "end_time": "2024-11-27T10:17:11.186056Z",
     "start_time": "2024-11-27T10:17:11.180478Z"
    }
   },
   "cell_type": "code",
   "source": [
    "def height(h0, f, sx, px, sy, py):\n",
    "\n",
    "    h = (h0*f)/np.sqrt((sx-px)**2+(sy-py)**2)\n",
    "    \n",
    "    return h\n",
    "\n",
    "def center_x(f, sx, px, sy, py, psi):\n",
    "    \n",
    "    cx = f*np.tan(np.arctan((sy-py)/(sx-px))-psi)\n",
    "    \n",
    "    return cx"
   ],
   "id": "3b20a808ca23163b",
   "outputs": [],
   "execution_count": 4
  },
  {
   "metadata": {},
   "cell_type": "code",
   "outputs": [],
   "execution_count": null,
   "source": [
    "def sec(phi):\n",
    "    \n",
    "    func = 1/np.cos(phi)\n",
    "    \n",
    "    return func"
   ],
   "id": "75bba6bd03d633a0"
  },
  {
   "metadata": {
    "ExecuteTime": {
     "end_time": "2024-11-27T10:37:56.990003Z",
     "start_time": "2024-11-27T10:37:56.981855Z"
    }
   },
   "cell_type": "code",
   "source": [
    "def G(h0, f, sx, px, sy, py, psi):\n",
    "    \n",
    "    jacobian = np.zeros((2,3))\n",
    "    \n",
    "    # df1 / dpx\n",
    "    jacobian[0][0] = (4 * h0 * (sx - px)) / (((sx - px) ** 2 + (sy - py) ** 2) ** (1 / 3))\n",
    "    \n",
    "    # df1 / dpy\n",
    "    jacobian[0][1] = (4 * h0 * (sy - py)) / (((sx - px) ** 2 + (sy - py) ** 2) ** (1 / 3))\n",
    "    \n",
    "    # df1 / dpsi\n",
    "    jacobian[0][2] = 0\n",
    "    \n",
    "    # df2 / dpx\n",
    "    jacobian[1][0] = (np.tan(psi)) / ((sx - px) + (sy - py) * np.tan(psi)) + (sy - py - (sx - px) * np.tan(psi)) / ((sx - px + (sy - py) * np.tan(psi))**2)   \n",
    "    \n",
    "    # df2 / dpy\n",
    "    jacobian[1][1] = - 1 / (sx - px + (sy - py) * np.tan(psi)) - ((sy - py - (sx - px) * np.tan(psi)) * np.tan(psi)) / ((sx - px + (sy - py) * np.tan(psi))**2)\n",
    "    \n",
    "    # df2 / dpsi\n",
    "    jacobian[1][2] = (- (sx - px) * (sec(psi)) ** 2) / (sx - px + (sy - py) * np.tan(psi)) - ((sy - py - (sx - px) * np.tan(psi)) * (sy - py) * (sec(psi)) ** 2) / (sx - px + (sy - py) * np.tan(psi)) ** 2\n",
    "    \n",
    "    return jacobian\n",
    "\n"
   ],
   "id": "4d8c0aa254950adc",
   "outputs": [],
   "execution_count": 6
  }
 ],
 "metadata": {
  "kernelspec": {
   "display_name": "Python 3",
   "language": "python",
   "name": "python3"
  },
  "language_info": {
   "codemirror_mode": {
    "name": "ipython",
    "version": 2
   },
   "file_extension": ".py",
   "mimetype": "text/x-python",
   "name": "python",
   "nbconvert_exporter": "python",
   "pygments_lexer": "ipython2",
   "version": "2.7.6"
  }
 },
 "nbformat": 4,
 "nbformat_minor": 5
}
