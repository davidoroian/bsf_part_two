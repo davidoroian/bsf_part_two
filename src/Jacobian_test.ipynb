{
 "cells": [
  {
   "cell_type": "code",
   "execution_count": 109,
   "id": "b25a693843c50f23",
   "metadata": {
    "ExecuteTime": {
     "end_time": "2024-11-29T14:54:28.757581Z",
     "start_time": "2024-11-29T14:54:28.752569Z"
    }
   },
   "outputs": [],
   "source": [
    "import numpy as np\n",
    "\n",
    "import autograd.numpy as np\n",
    "from autograd import grad, jacobian\n",
    "\n",
    "import symengine\n",
    "from sympy import symbols\n",
    "import sympy as sy\n"
   ]
  },
  {
   "cell_type": "code",
   "execution_count": 110,
   "id": "4829d5024879f88a",
   "metadata": {
    "ExecuteTime": {
     "end_time": "2024-11-29T14:54:28.944770Z",
     "start_time": "2024-11-29T14:54:28.939553Z"
    }
   },
   "outputs": [],
   "source": [
    "def sec(phi):\n",
    "    \n",
    "    '''\n",
    "    What the function does\n",
    "    :param phi: \n",
    "    :return: \n",
    "    '''\n",
    "    \n",
    "    func = 1/np.cos(phi)\n",
    "    \n",
    "    return func"
   ]
  },
  {
   "cell_type": "code",
   "execution_count": 111,
   "id": "initial_id",
   "metadata": {
    "ExecuteTime": {
     "end_time": "2024-11-29T14:54:29.152293Z",
     "start_time": "2024-11-29T14:54:29.145943Z"
    },
    "collapsed": true
   },
   "outputs": [],
   "source": [
    "def g(h0, f, sx, px, sy, py, psi):\n",
    "    \"\"\"\n",
    "    What the function does\n",
    "    :param x: x = [px, py, psi]\n",
    "    :return: measurement model g\n",
    "    \"\"\"\n",
    "    \n",
    "    h = (h0*f)/np.sqrt((sx-px)**2+(sy-py)**2)\n",
    "    \n",
    "    cx = f*np.tan(np.arctan((sy-py)/(sx-px))-psi)\n",
    "    \n",
    "    g_function = np.array([[h],[cx]])\n",
    "    \n",
    "    return g_function\n",
    "\n",
    "\n"
   ]
  },
  {
   "cell_type": "code",
   "execution_count": 112,
   "id": "67b7b7e362412c2",
   "metadata": {
    "ExecuteTime": {
     "end_time": "2024-11-29T14:54:29.346236Z",
     "start_time": "2024-11-29T14:54:29.337500Z"
    }
   },
   "outputs": [],
   "source": [
    "def G(h0, sx, px, sy, py, psi, f):\n",
    "    \n",
    "    '''\n",
    "    What the function does\n",
    "    :param h0: \n",
    "    :param sx: \n",
    "    :param px: \n",
    "    :param sy: \n",
    "    :param py: \n",
    "    :param psi: \n",
    "    :return: \n",
    "    '''\n",
    "    \n",
    "    jacobian = np.zeros((2,3))\n",
    "    \n",
    "    # df1 / dpx\n",
    "    jacobian[0][0] = (-px+sx)*f*h0/(((-px+sx)**2+(-py+sy)**2)**(3/2))\n",
    "    \n",
    "    # df1 / dpy\n",
    "    jacobian[0][1] = (-py+sy)*f*h0/(((-px+sx)**2+(-py+sy)**2)**(3/2))\n",
    "    \n",
    "    # df1 / dpsi\n",
    "    jacobian[0][2] = 0\n",
    "    \n",
    "    # df2 / dpx\n",
    "    jacobian[1][0] = (f * (sy - py)) / (sx - px)**2   \n",
    "    \n",
    "    # df2 / dpy\n",
    "    jacobian[1][1] = - 1 / (sx - px + (sy - py) * np.tan(psi)) - ((sy - py - (sx - px) * np.tan(psi)) * np.tan(psi)) / ((sx - px + (sy - py) * np.tan(psi))**2)\n",
    "    \n",
    "    # df2 / dpsi\n",
    "    jacobian[1][2] = (- (sx - px) * (sec(psi)) ** 2) / (sx - px + (sy - py) * np.tan(psi)) - ((sy - py - (sx - px) * np.tan(psi)) * (sy - py) * (sec(psi)) ** 2) / (sx - px + (sy - py) * np.tan(psi)) ** 2\n",
    "    \n",
    "    return jacobian"
   ]
  },
  {
   "cell_type": "markdown",
   "id": "262b7d759e8b831d",
   "metadata": {},
   "source": []
  },
  {
   "cell_type": "code",
   "execution_count": 113,
   "id": "bc693192da52ffe7",
   "metadata": {
    "ExecuteTime": {
     "end_time": "2024-11-29T14:54:29.758435Z",
     "start_time": "2024-11-29T14:54:29.751146Z"
    }
   },
   "outputs": [],
   "source": [
    "# test variables\n",
    "\n",
    "h0_test = 1.0\n",
    "f_test = 2.0\n",
    "sx_test = 3.0\n",
    "px_test = 4.0\n",
    "sy_test = 5.0\n",
    "py_test = 6.0\n",
    "psi_test = 7.0"
   ]
  },
  {
   "cell_type": "code",
   "execution_count": 114,
   "id": "292d32944e6b8a6d",
   "metadata": {
    "ExecuteTime": {
     "end_time": "2024-11-29T14:54:30.183751Z",
     "start_time": "2024-11-29T14:54:30.177789Z"
    }
   },
   "outputs": [
    {
     "name": "stdout",
     "output_type": "stream",
     "text": [
      "[(-px + sx)*f*h0/((-px + sx)**2 + (-py + sy)**2)**(3/2), (-py + sy)*f*h0/((-px + sx)**2 + (-py + sy)**2)**(3/2), 0]\n",
      "[(-py + sy)*f*(1 + tan(psi - atan((-py + sy)/(-px + sx)))**2)/((-px + sx)**2*(1 + (-py + sy)**2/(-px + sx)**2)), -f*(1 + tan(psi - atan((-py + sy)/(-px + sx)))**2)/((-px + sx)*(1 + (-py + sy)**2/(-px + sx)**2)), -f*(1 + tan(psi - atan((-py + sy)/(-px + sx)))**2)]\n",
      "\n",
      "[-0.707106781186548, -0.707106781186548, 0]\n",
      "[-1.00471848166252, 1.00471848166252, -2.00943696332505]\n",
      "\n"
     ]
    }
   ],
   "source": [
    "'''\n",
    "vars = symengine.symbols('x y') # Define x and y variables\n",
    "f = symengine.sympify(['y*x**2', '5*x + sin(y)']) # Define function\n",
    "J = symengine.zeros(len(f),len(vars)) # Initialise Jacobian matrix\n",
    "\n",
    "# Fill Jacobian matrix with entries\n",
    "for i, fi in enumerate(f):\n",
    "    for j, s in enumerate(vars):\n",
    "        J[i,j] = symengine.diff(fi, s)\n",
    "\n",
    "print(J)\n",
    "\n",
    "print(symengine.Matrix.det(J))\n",
    "'''\n",
    "\n",
    "vars = symengine.symbols('h0 f sx px sy py psi')\n",
    "diff_vars = symengine.symbols('px py psi')\n",
    "f1 = symengine.sympify(['(h0*f)/sqrt((sx-px)**2+(sy-py)**2)', 'f*tan(atan((sy-py)/(sx-px))-psi)'])\n",
    "J = symengine.zeros(len(f1),len(diff_vars)) #initialize jacobian\n",
    "\n",
    "for i, fi in enumerate(f1):\n",
    "    for j, s in enumerate(diff_vars):\n",
    "        J[i,j] = symengine.diff(fi, s)\n",
    "        \n",
    "print(J)\n",
    "\n",
    "#print(symengine.Matrix.det(J))\n",
    "# Now substitute real values into the Jacobian matrix\n",
    "# Example: Substitute specific values for the variables\n",
    "\n",
    "\n",
    "sub_values = {\n",
    "    'h0': h0_test,   # Example value for h0\n",
    "    'f': f_test,    # Example value for f\n",
    "    'sx': sx_test,   # Example value for sx\n",
    "    'px': px_test,   # Example value for px\n",
    "    'sy': sy_test,   # Example value for sy\n",
    "    'py': py_test,   # Example value for py\n",
    "    'psi': psi_test   # Example value for psi\n",
    "}\n",
    "\n",
    "# Substitute the values into the Jacobian matrix\n",
    "J_substituted = J.subs(sub_values)\n",
    "\n",
    "print(J_substituted)\n"
   ]
  },
  {
   "cell_type": "code",
   "execution_count": 115,
   "id": "20669e9d7a8386f6",
   "metadata": {
    "ExecuteTime": {
     "end_time": "2024-11-29T14:54:30.624773Z",
     "start_time": "2024-11-29T14:54:30.618324Z"
    }
   },
   "outputs": [
    {
     "name": "stdout",
     "output_type": "stream",
     "text": [
      "[[-0.70710678 -0.70710678  0.        ]\n",
      " [-2.          0.56633196 -1.00471848]]\n"
     ]
    }
   ],
   "source": [
    "print(G(h0_test, sx_test, px_test, sy_test, py_test, psi_test, f_test))\n",
    "\n",
    "# variables: h0, sx, px, sy, py, psi\n",
    "#def G(h0, sx, px, sy, py, psi, f):\n"
   ]
  },
  {
   "cell_type": "code",
   "execution_count": null,
   "id": "cd97f33e2324a7e0",
   "metadata": {},
   "outputs": [],
   "source": []
  }
 ],
 "metadata": {
  "kernelspec": {
   "display_name": "bsf",
   "language": "python",
   "name": "python3"
  },
  "language_info": {
   "codemirror_mode": {
    "name": "ipython",
    "version": 2
   },
   "file_extension": ".py",
   "mimetype": "text/x-python",
   "name": "python",
   "nbconvert_exporter": "python",
   "pygments_lexer": "ipython2",
   "version": "3.12.4"
  }
 },
 "nbformat": 4,
 "nbformat_minor": 5
}
